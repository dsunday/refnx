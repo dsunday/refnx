{
 "cells": [
  {
   "cell_type": "markdown",
   "id": "4879c2ee-e89d-42db-974e-a9572851ef20",
   "metadata": {
    "pycharm": {
     "name": "#%% md\n"
    }
   },
   "source": [
    "# Analysing polarised neutron reflectometry data (mark2)\n",
    "`refnx` recently added the ability to perform polarised neutron reflectometry analysis in v0.1.51, both non-spin flip and spin flip. Here we analyse datasets that uses magnetic films and PNR as an extra contrast. The datasets of interest have the structure:\n",
    "\n",
    "`Si | SiO2 | Permalloy | Au | 2-mercaptoethanol | D2O`"
   ]
  },
  {
   "cell_type": "code",
   "execution_count": 1,
   "id": "e30f7cbb-3f89-4c85-98eb-88a9d63af161",
   "metadata": {
    "pycharm": {
     "name": "#%%\n"
    }
   },
   "outputs": [],
   "source": [
    "# some necessary imports\n",
    "from importlib import resources\n",
    "\n",
    "%matplotlib inline\n",
    "import numpy as np\n",
    "import matplotlib.pyplot as plt\n",
    "\n",
    "import refnx\n",
    "from refnx.analysis import Parameter, Objective, CurveFitter, GlobalObjective\n",
    "from refnx.reflect import (\n",
    "    SLD,\n",
    "    Slab,\n",
    "    Structure,\n",
    "    MagneticSlab,\n",
    "    PolarisedReflectModel,\n",
    "    SpinChannel,\n",
    "    pnr_data_and_generative,\n",
    ")\n",
    "from refnx.dataset import Data1D, PolarisedReflectDatasets"
   ]
  },
  {
   "cell_type": "code",
   "execution_count": 2,
   "id": "bbed1272-9a1b-4c3c-8b13-4af3cc79ad55",
   "metadata": {
    "pycharm": {
     "name": "#%%\n"
    }
   },
   "outputs": [],
   "source": [
    "# create datasets from the NSF PNR data\n",
    "pth = resources.files(refnx.reflect)\n",
    "dd = \"c_PLP0007882.dat\"\n",
    "uu = \"c_PLP0007885.dat\"\n",
    "\n",
    "file_path_uu = pth / f\"tests/{uu}\"\n",
    "file_path_dd = pth / f\"tests/{dd}\"\n",
    "\n",
    "data_uu = Data1D(file_path_uu)\n",
    "data_dd = Data1D(file_path_dd)\n",
    "\n",
    "combined = PolarisedReflectDatasets(up_up=data_uu, down_down=data_dd)"
   ]
  },
  {
   "cell_type": "code",
   "execution_count": 3,
   "id": "42b8e1c0-fb82-4464-bc83-1361154085ac",
   "metadata": {
    "pycharm": {
     "name": "#%%\n"
    }
   },
   "outputs": [],
   "source": [
    "# create SLD (Scattering Length Density) objects for each of the materials\n",
    "si = SLD(2.07, name=\"Si\")\n",
    "sio2 = SLD(3.47, name=\"SiO2\")\n",
    "au = SLD(4.66, name=\"Au\")\n",
    "mercapto = SLD(3.49, name=\"2-mercaptoethanol\")\n",
    "d2o = SLD(6.35, name=\"d2o\")\n",
    "\n",
    "py = SLD(9.0, name=\"permalloy\")"
   ]
  },
  {
   "cell_type": "code",
   "execution_count": 4,
   "id": "0f72701b-509e-4cb0-a1a9-b72895a6ad5e",
   "metadata": {
    "pycharm": {
     "name": "#%%\n"
    }
   },
   "outputs": [],
   "source": [
    "# Now make Slabs that describe each layer. These can either be made from SLD objects,\n",
    "# or by using the `Slab` constructor directly.\n",
    "\n",
    "# sio2 slab has a thickness of 20 and roughness of 4 with the Si fronting medium\n",
    "sio2_l = sio2(20, 4)\n",
    "\n",
    "au_l = au(215, 4)\n",
    "mercapto_l = mercapto(8, 4)\n",
    "d2o_l = d2o(0, 4)"
   ]
  },
  {
   "cell_type": "markdown",
   "id": "41824d88-3b7c-469f-808d-f714f8fad19f",
   "metadata": {
    "pycharm": {
     "name": "#%% md\n"
    }
   },
   "source": [
    "Now let's make the Permalloy layer. To do this we need to utilise a `MagneticSlab` Component. The value of 1.75 represents a magnetic SLD correction of $1.75\\times 10^{-6}\\\\A^{-2}$. The value of `thetaM=90` (degrees) represents the angle of the magnetic moment in the plane of the sample. For the applied magnetic field to be the plane of the sample `Aguide=270` or `90`. For the magnetic moment to be parallel or antiparallel to the applied field `thetaM=90` or `270` degrees respectively."
   ]
  },
  {
   "cell_type": "code",
   "execution_count": 5,
   "id": "b3b7ac26-f168-463f-aa78-9ac41b8e54fd",
   "metadata": {
    "pycharm": {
     "name": "#%%\n"
    }
   },
   "outputs": [],
   "source": [
    "# now make the Py layer\n",
    "py_thickness = Parameter(50, name=\"Py thickness\")\n",
    "py_roughness = Parameter(5, name=\"Py roughness\")\n",
    "\n",
    "py_l = MagneticSlab(py_thickness, py, py_roughness, 1.75, 90.0, name=\"Py slab\")"
   ]
  },
  {
   "cell_type": "code",
   "execution_count": 6,
   "id": "e59f21af-9882-4477-bf22-dd2099ea5df8",
   "metadata": {
    "pycharm": {
     "name": "#%%\n"
    }
   },
   "outputs": [],
   "source": [
    "s = si | sio2_l | py_l | au_l | mercapto_l | d2o_l"
   ]
  },
  {
   "cell_type": "code",
   "execution_count": 7,
   "id": "2866af82-074d-4e97-be9b-0290597ad1eb",
   "metadata": {
    "pycharm": {
     "name": "#%%\n"
    }
   },
   "outputs": [],
   "source": [
    "# Note that we're using the same structure to describe both spin channels.\n",
    "# If you want to specify a different scale factor and bkg for each SpinChannel\n",
    "# you must provide 4 numbers during the construction of PolarisedReflectModel\n",
    "# (even if you don't have all four spin channels).\n",
    "# Otherwise the same scale factor/bkg will be used for all.\n",
    "scale = [1.0] * 4\n",
    "bkg = [1e-7] * 4\n",
    "model = PolarisedReflectModel(\n",
    "    s,\n",
    "    scales=scale,\n",
    "    bkgs=bkg,\n",
    "    dq_type=\"pointwise\",\n",
    ")"
   ]
  },
  {
   "cell_type": "code",
   "execution_count": 8,
   "id": "c9d39562-d2e2-4d85-ac8c-86d26047ca7c",
   "metadata": {
    "pycharm": {
     "name": "#%%\n"
    }
   },
   "outputs": [],
   "source": [
    "objective = Objective(model, combined)"
   ]
  },
  {
   "cell_type": "code",
   "execution_count": 9,
   "id": "a50782f1-4a2f-4db5-b059-d10002c159cc",
   "metadata": {
    "pycharm": {
     "name": "#%%\n"
    }
   },
   "outputs": [],
   "source": [
    "# select the parameters to be fitted and their bounds\n",
    "model.scale[0].setp(vary=True, bounds=(0.9, 1.1))  # UU\n",
    "model.scale[-1].setp(vary=True, bounds=(0.9, 1.1))  # DD\n",
    "\n",
    "model.bkg[0].setp(vary=True, bounds=(1e-7, 5e-6))\n",
    "model.bkg[-1].setp(vary=True, bounds=(1e-7, 5e-6))\n",
    "\n",
    "sio2_l.thick.setp(vary=True, bounds=(10, 25))\n",
    "sio2_l.rough.setp(vary=True, bounds=(1, 8))\n",
    "\n",
    "py_thickness.setp(vary=True, bounds=(38, 55))\n",
    "py_roughness.setp(vary=True, bounds=(1, 8))\n",
    "py.real.setp(vary=True, bounds=(9, 9.5))\n",
    "py_l.rhoM.setp(vary=True, bounds=(1.5, 3.0))\n",
    "\n",
    "au_l.thick.setp(vary=True, bounds=(200, 240))\n",
    "au_l.rough.setp(vary=True, bounds=(1, 8))\n",
    "au.real.setp(vary=True, bounds=(4.5, 4.66))\n",
    "\n",
    "mercapto_l.thick.setp(vary=True, bounds=(5, 15))\n",
    "mercapto_l.rough.setp(vary=True, bounds=(1, 8))\n",
    "mercapto.real.setp(vary=True, bounds=(3, 4))\n",
    "\n",
    "d2o_l.rough.setp(vary=True, bounds=(1, 8))\n",
    "d2o.real.setp(vary=True, bounds=(6.2, 6.36))"
   ]
  },
  {
   "cell_type": "code",
   "execution_count": 10,
   "id": "30855431-e791-43a8-84ac-b68940b67587",
   "metadata": {
    "pycharm": {
     "name": "#%%\n"
    }
   },
   "outputs": [
    {
     "name": "stderr",
     "output_type": "stream",
     "text": [
      "-1265.3234388262526: : 84it [00:11,  7.26it/s]\n"
     ]
    }
   ],
   "source": [
    "fitter = CurveFitter(objective)\n",
    "fitter.fit(\"differential_evolution\", seed=1, polish=False);"
   ]
  },
  {
   "cell_type": "code",
   "execution_count": 11,
   "id": "f431c425-a965-4e21-b03d-d49ce60410c6",
   "metadata": {},
   "outputs": [
    {
     "data": {
      "image/png": "[encoded data removed]",
      "text/plain": [
       "<Figure size 640x480 with 1 Axes>"
      ]
     },
     "metadata": {},
     "output_type": "display_data"
    }
   ],
   "source": [
    "pdg = pnr_data_and_generative(objective)\n",
    "\n",
    "fig = plt.figure()\n",
    "ax = fig.add_subplot(111)\n",
    "\n",
    "for dg in pdg:\n",
    "    dta, generative = dg\n",
    "    p = ax.plot(dta.x, generative)\n",
    "    color = p[0].get_color()\n",
    "    ax.errorbar(\n",
    "        dta.x,\n",
    "        dta.y,\n",
    "        dta.y_err,\n",
    "        ms=3,\n",
    "        marker=\"o\",\n",
    "        lw=0,\n",
    "        label=dta.name,\n",
    "        color=color,\n",
    "    )\n",
    "\n",
    "plt.yscale(\"log\")\n",
    "plt.xlabel(\"q / $\\\\AA^{-1}$\")\n",
    "plt.ylabel(\"Reflectvity\")\n",
    "plt.legend();"
   ]
  },
  {
   "cell_type": "code",
   "execution_count": 12,
   "id": "90e3ddc2-2c2e-4aed-9569-7711c3ab8704",
   "metadata": {},
   "outputs": [
    {
     "name": "stdin",
     "output_type": "stream",
     "text": [
      "Once deleted, variables cannot be recovered. Proceed (y/[n])?  y\n"
     ]
    }
   ],
   "source": [
    "%reset"
   ]
  },
  {
   "cell_type": "code",
   "execution_count": null,
   "id": "9aee8cb7-531f-4fbd-8e75-4b1d98eca012",
   "metadata": {},
   "outputs": [],
   "source": []
  }
 ],
 "metadata": {
  "kernelspec": {
   "display_name": "Python 3 (ipykernel)",
   "language": "python",
   "name": "python3"
  },
  "language_info": {
   "codemirror_mode": {
    "name": "ipython",
    "version": 3
   },
   "file_extension": ".py",
   "mimetype": "text/x-python",
   "name": "python",
   "nbconvert_exporter": "python",
   "pygments_lexer": "ipython3",
   "version": "3.12.6"
  }
 },
 "nbformat": 4,
 "nbformat_minor": 5
}
