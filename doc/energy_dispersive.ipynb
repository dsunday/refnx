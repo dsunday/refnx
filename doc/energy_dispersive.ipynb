{
 "cells": [
  {
   "cell_type": "markdown",
   "id": "6eeef840-c338-4ec9-ae10-a9e75b658053",
   "metadata": {},
   "source": [
    "# Energy and angular dispersive analysis\n",
    "\n",
    "`refnx` able to deal with reflectivity from systems containing energy dispersive materials, i.e. those whose optical properties change as a function of wavelength. For neutrons this mainly corresponds to elements with strong absorption effects. The treatment below is also able to deal with energy dispersive X-ray measurements"
   ]
  },
  {
   "cell_type": "code",
   "execution_count": 1,
   "id": "f2d9a637-f1a9-47c4-8ce7-dd9475032b38",
   "metadata": {},
   "outputs": [],
   "source": [
    "import numpy as np\n",
    "import matplotlib.pyplot as plt\n",
    "\n",
    "from refnx.reflect import ReflectModelTL, ReflectModel, SLD, MaterialSLD\n",
    "from refnx.util import q, xray_wavelength"
   ]
  },
  {
   "cell_type": "markdown",
   "id": "b8ad07e9-8658-433a-995c-742ec780b91d",
   "metadata": {},
   "source": [
    "Start off by creating a `MaterialSLD`. This is a variant of `Scatterer`, whose optical properties are controlled by a formula, mass density (g/cc), and whether the material is being used for neutron or X-ray calculation.\n",
    "\n",
    "Here we'll calculate the SLD of the material at two different wavelengths."
   ]
  },
  {
   "cell_type": "code",
   "execution_count": 2,
   "id": "9b54ac43-b365-4862-b22e-6d6392d5544c",
   "metadata": {},
   "outputs": [
    {
     "name": "stdout",
     "output_type": "stream",
     "text": [
      "SLD: (6.544686245235056+0.7318962182191739j) at 2.8 Angstrom\n",
      "SLD: (6.471928664642279+0.648390380281317j) at 18.0 Angstrom\n"
     ]
    }
   ],
   "source": [
    "gdgao_disp = MaterialSLD(\"GdGa5O12\", 7, probe='neutron') # can be 'x-ray'\n",
    "\n",
    "gdgao_disp.wavelength = 2.8   # Angstrom\n",
    "print(f\"SLD: {complex(gdgao_disp)} at {gdgao_disp.wavelength} Angstrom\")\n",
    "gdgao_disp.wavelength = 18.\n",
    "print(f\"SLD: {complex(gdgao_disp)} at {gdgao_disp.wavelength} Angstrom\")"
   ]
  },
  {
   "cell_type": "markdown",
   "id": "38228996-5edc-43c5-9019-54f92838e3b3",
   "metadata": {},
   "source": [
    "For comparison let's create a non-dispersive version. By non-dispersive we mean that the optical properties don't change as a function of wavelength"
   ]
  },
  {
   "cell_type": "code",
   "execution_count": 3,
   "id": "d976c1fe-a739-4446-8e84-5b66edd87fbf",
   "metadata": {},
   "outputs": [],
   "source": [
    "gdgao_nondisp = SLD(6.5 + 0.68j)"
   ]
  },
  {
   "cell_type": "markdown",
   "id": "2d5078ff-1f36-4d03-a2dd-0029af54563c",
   "metadata": {},
   "source": [
    "The `MaterialSLD.density` attribute can be allowed to vary during a fit."
   ]
  },
  {
   "cell_type": "code",
   "execution_count": 4,
   "id": "8d37781c-c504-446d-b40c-92fa9817ae00",
   "metadata": {},
   "outputs": [
    {
     "name": "stdout",
     "output_type": "stream",
     "text": [
      "________________________________________________________________________________\n",
      "Parameters:       ''       \n",
      "<Parameter:   'density'   , value=7  (fixed) , bounds=[-inf, inf]>\n"
     ]
    }
   ],
   "source": [
    "print(gdgao_disp.parameters)"
   ]
  },
  {
   "cell_type": "markdown",
   "id": "c2ac79a0-0a43-441d-a782-b2e1cb419268",
   "metadata": {},
   "source": [
    "In comparison, with the non-dispersive analogue one can allow the real and imaginary part of the SLD to vary."
   ]
  },
  {
   "cell_type": "code",
   "execution_count": 5,
   "id": "0d240af4-fb86-4f68-9564-42c38da109f0",
   "metadata": {},
   "outputs": [
    {
     "name": "stdout",
     "output_type": "stream",
     "text": [
      "________________________________________________________________________________\n",
      "Parameters:       ''       \n",
      "<Parameter:   ' - sld'    , value=6.5  (fixed) , bounds=[-inf, inf]>\n",
      "<Parameter:   ' - isld'   , value=0.68  (fixed) , bounds=[-inf, inf]>\n"
     ]
    }
   ],
   "source": [
    "print(gdgao_nondisp.parameters)"
   ]
  },
  {
   "cell_type": "markdown",
   "id": "5a66c1e4-8a88-4480-934b-b50696d3fc6c",
   "metadata": {},
   "source": [
    "Now we create two `Structure`s that are ostensibly the same, but one has a dispersive material in it, the other a non-dispersive analogue."
   ]
  },
  {
   "cell_type": "code",
   "execution_count": 6,
   "id": "42637c4e-1c87-480d-b6ea-5754bc9d58e4",
   "metadata": {},
   "outputs": [],
   "source": [
    "air = SLD(0.0)\n",
    "si = SLD(2.07)\n",
    "\n",
    "s_disp = air | gdgao_disp(300, 5) | si(0, 3)\n",
    "s_nondisp = air | gdgao_nondisp(300, 5) | si(0, 3)"
   ]
  },
  {
   "cell_type": "markdown",
   "id": "851691b9-7e3e-421b-89db-84260f0efc5c",
   "metadata": {},
   "source": [
    "Now we generate `theta`/`wavelength` arrays, with a corresponding Q value.\n",
    "Subsequently we create a `ReflectModelTL` and a `ReflectModel`. `ReflectModelTL` is a variant of `ReflectModel`. Instead of calculating reflectivity as a function of Q (a. la. `ReflectModel`), it calculates as a function of incident angle and wavelength"
   ]
  },
  {
   "cell_type": "code",
   "execution_count": 7,
   "id": "f816cf11-9180-4f89-b1b3-cfbd137a59a3",
   "metadata": {},
   "outputs": [],
   "source": [
    "npnts = 201\n",
    "theta = np.ones(npnts) * 0.65\n",
    "wavelength = np.geomspace(2.8, 18, npnts)\n",
    "qq = q(theta, wavelength)\n",
    "\n",
    "model_disp = ReflectModelTL(s_disp)\n",
    "model_nondisp = ReflectModel(s_nondisp)"
   ]
  },
  {
   "cell_type": "markdown",
   "id": "6b0a42b5-0a46-4875-bad0-f7fb63019651",
   "metadata": {},
   "source": [
    "Now let's compare the reflectivity from the dispersive and non-dispersive analogues. The reflectivities are almost identical, the energy dispersive absorption effect has little effect in this case."
   ]
  },
  {
   "cell_type": "code",
   "execution_count": 8,
   "id": "a199c625-2073-4ffa-956d-8fdab09ce99d",
   "metadata": {},
   "outputs": [
    {
     "data": {
      "image/png": "[encoded data removed]",
      "text/plain": [
       "<Figure size 640x480 with 1 Axes>"
      ]
     },
     "metadata": {},
     "output_type": "display_data"
    }
   ],
   "source": [
    "plt.plot(qq, model_nondisp(qq), label='nondisp')\n",
    "\n",
    "# note how we provide theta and wavelength to the ReflectModelTL object.\n",
    "plt.plot(qq, model_disp(np.c_[theta, wavelength]), label='disp')\n",
    "plt.yscale('log')\n",
    "plt.xscale('log')\n",
    "plt.legend();"
   ]
  },
  {
   "cell_type": "markdown",
   "id": "25f47802-b6c0-4b41-8748-74f17d940c36",
   "metadata": {},
   "source": [
    "To reassure ourselves let's loko at the slab representation of the the dispersive `Structure` at two different wavelengths. We can see that the real and imaginary components of the SLD (second column) do change, just not by much."
   ]
  },
  {
   "cell_type": "code",
   "execution_count": 9,
   "id": "274ac51a-006e-404a-8d16-f20bc7575051",
   "metadata": {},
   "outputs": [
    {
     "name": "stdout",
     "output_type": "stream",
     "text": [
      "[[  0.           0.           0.           0.           0.        ]\n",
      " [300.           6.54468625   0.73189622   5.           0.        ]\n",
      " [  0.           2.07         0.           3.           0.        ]]\n",
      "\n",
      "[[  0.           0.           0.           0.           0.        ]\n",
      " [300.           6.47192866   0.64839038   5.           0.        ]\n",
      " [  0.           2.07         0.           3.           0.        ]]\n"
     ]
    }
   ],
   "source": [
    "print(s_disp.slabs(wavelength=2.8))\n",
    "print()\n",
    "print(s_disp.slabs(wavelength=18.0))"
   ]
  },
  {
   "cell_type": "markdown",
   "id": "c0da8e77-1d80-4cd2-b172-43cc3f47bc7e",
   "metadata": {},
   "source": [
    "For comparison here is the non-dispersive system."
   ]
  },
  {
   "cell_type": "code",
   "execution_count": 10,
   "id": "76fb6a62-3892-45a6-b3b4-170178edadf1",
   "metadata": {},
   "outputs": [
    {
     "name": "stdout",
     "output_type": "stream",
     "text": [
      "[[  0.     0.     0.     0.     0.  ]\n",
      " [300.     6.5    0.68   5.     0.  ]\n",
      " [  0.     2.07   0.     3.     0.  ]]\n",
      "\n",
      "[[  0.     0.     0.     0.     0.  ]\n",
      " [300.     6.5    0.68   5.     0.  ]\n",
      " [  0.     2.07   0.     3.     0.  ]]\n"
     ]
    }
   ],
   "source": [
    "print(s_nondisp.slabs(wavelength=2.8))\n",
    "print()\n",
    "print(s_nondisp.slabs(wavelength=18.0))"
   ]
  }
 ],
 "metadata": {
  "kernelspec": {
   "display_name": "Python 3 (ipykernel)",
   "language": "python",
   "name": "python3"
  },
  "language_info": {
   "codemirror_mode": {
    "name": "ipython",
    "version": 3
   },
   "file_extension": ".py",
   "mimetype": "text/x-python",
   "name": "python",
   "nbconvert_exporter": "python",
   "pygments_lexer": "ipython3",
   "version": "3.12.5"
  }
 },
 "nbformat": 4,
 "nbformat_minor": 5
}
